{
 "cells": [
  {
   "cell_type": "markdown",
   "id": "ae79a6fe-207a-44a9-a925-d54676742204",
   "metadata": {},
   "source": [
    "# 07B. Reaction-diffusion systems\n",
    "\n",
    "### Mingyang Lu\n",
    "\n",
    "### 3/7/2024\n",
    "\n",
    "# Reaction-diffusion equations\r",
    "\r",
    "If we now use $u(x,t)$ as the state variable and add another term $f(u,t)$ to the diffusion equation, \r",
    "\r",
    "$$\\frac{\\partial u(X,t)}{\\partial t} = f(u,t) + D \\frac{\\partial^2 u(X,t)}{\\partial X^2} \\tag{1} $$\r",
    "\r",
    "Equation (1) is called reaction-diffusion equation. $f(u, t)$ represents the reaction term, which we commonly used in a chemical rate equation\r",
    "\r",
    "$$\\frac{du}{dt} = f(u, t) \\tag{2}$$\r",
    "\r",
    "When $f(u, t)$ vanishes, Equation (1) becomes the PDE for a pure diffusion process. \r",
    "\r",
    "# Fisher's equation\r",
    "\r",
    "If we consider a logistic growth as the reaction, Equation (2) for $u(X, t)$ becomes \r",
    "\r",
    "$$\\frac{\\partial u}{\\partial t} = ru(1-\\frac{u}{B}) + D \\frac{\\partial^2 u}{\\partial X^2} \\tag{3} $$\r",
    "\r",
    "$u$ is the population size, and $B$ is the carrying capacity. This is Fisher's equation, first proposed by Ronald Fisher in 1934. Below is a slightly modified PDE integrator to model reaction-diffusion systems. We use the Dirichlet boundary condition here (zero $u$ at the boundary)."
   ]
  },
  {
   "cell_type": "code",
   "execution_count": 1,
   "id": "d599b6bd-1069-4269-adc2-fb7931af9790",
   "metadata": {},
   "outputs": [],
   "source": [
    "import numpy as np\n",
    "import matplotlib.pyplot as plt\n",
    "\n",
    "## PDE integration with the finite difference method for reaction-diffusion equation\n",
    "def pde_fd_reaction_diffusion(derivs, ngrid, dX, dt, D, t0, t_total, p0, *args):\n",
    "    \"\"\"\n",
    "    Parameters:\n",
    "    - derivs: derivative function\n",
    "    - ngrid: number of grid points\n",
    "    - dX: X step size\n",
    "    - dt: time step size\n",
    "    - D: diffusion constant\n",
    "    - t0: initial time\n",
    "    - t_total: total simulation time\n",
    "    - p0: initial condition: P(X, t = t0)\n",
    "    - *args: additional arguments to the derivative function\n",
    "    \n",
    "    Returns:\n",
    "    - p: Final values of P(X, t)\n",
    "    \"\"\"\n",
    "    t_all = np.arange(t0, t_total + dt, dt)\n",
    "    nt_all = len(t_all)\n",
    "    factor = D / dX**2 * dt\n",
    "    p = p0.copy()  # Make a copy to avoid modifying the original array\n",
    "\n",
    "    for i in range(nt_all - 1):\n",
    "        p_plus_one = np.concatenate((p[1:], [0]))  # P(X + dX) for all Xs, 0 for boundary condition\n",
    "        p_minus_one = np.concatenate(([0], p[:-1]))  # P(X - dX) for all Xs, 0 for boundary condition\n",
    "        \n",
    "        # Calculate derivatives at each point\n",
    "        f = np.array([derivs(t_all[i], X, *args) for X in p])\n",
    "        \n",
    "        # Update P(X, t) using finite difference method\n",
    "        p = p + f * dt + factor * (p_plus_one + p_minus_one - 2 * p)\n",
    "\n",
    "    return p"
   ]
  }
 ],
 "metadata": {
  "kernelspec": {
   "display_name": "Python 3 (ipykernel)",
   "language": "python",
   "name": "python3"
  },
  "language_info": {
   "codemirror_mode": {
    "name": "ipython",
    "version": 3
   },
   "file_extension": ".py",
   "mimetype": "text/x-python",
   "name": "python",
   "nbconvert_exporter": "python",
   "pygments_lexer": "ipython3",
   "version": "3.12.2"
  }
 },
 "nbformat": 4,
 "nbformat_minor": 5
}
