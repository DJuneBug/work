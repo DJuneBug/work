{
 "cells": [
  {
   "cell_type": "markdown",
   "id": "d00a1bad-574a-4d45-809a-9d0b0cd6837b",
   "metadata": {},
   "source": [
    "# 03B. Steady states in 2D\n",
    "\n",
    "### Mingyang Lu\n",
    "\n",
    "### 1/5/2024\n",
    "\n",
    "##  Find intersections (see numericalR for detailed derivations)"
   ]
  },
  {
   "cell_type": "code",
   "execution_count": 1,
   "id": "4ebb6c5f-bd7e-45c1-8a32-fecbd5551cfe",
   "metadata": {},
   "outputs": [
    {
     "data": {
      "image/png": "[encoded data removed]",
      "text/plain": [
       "<Figure size 640x480 with 1 Axes>"
      ]
     },
     "metadata": {},
     "output_type": "display_data"
    },
    {
     "name": "stdout",
     "output_type": "stream",
     "text": [
      "[0.5 0.  1. ]\n",
      "[ 0.5 -0.5  0. ]\n",
      "[-0.5 -0.5  0. ]\n"
     ]
    }
   ],
   "source": [
    "import numpy as np\n",
    "import matplotlib.pyplot as plt\n",
    "\n",
    "def find_intersection(lineA, lineB, nA, nB):\n",
    "    dAX = lineA[nA + 1, 0] - lineA[nA, 0]\n",
    "    dAY = lineA[nA + 1, 1] - lineA[nA, 1]\n",
    "\n",
    "    dBX = lineB[nB + 1, 0] - lineB[nB, 0]\n",
    "    dBY = lineB[nB + 1, 1] - lineB[nB, 1]\n",
    "\n",
    "    dABX = lineB[nB, 0] - lineA[nA, 0]\n",
    "    dABY = lineB[nB, 1] - lineA[nA, 1]\n",
    "\n",
    "    d = dAX * dBY - dAY * dBX\n",
    "\n",
    "    alpha = (dABX * dBY - dABY * dBX) / d\n",
    "    beta = (dABX * dAY - dABY * dAX) / d\n",
    "\n",
    "    # check whether there is an intersection in between\n",
    "    if (0 <= alpha <= 1) and (0 <= beta <= 1): \n",
    "        intersection = np.array([(1 - alpha) * lineA[nA, 0] + alpha * lineA[nA + 1, 0],\n",
    "                                 (1 - alpha) * lineA[nA, 1] + alpha * lineA[nA + 1, 1], \n",
    "                                 1])\n",
    "        # 1st and 2nd elements: X & Y\n",
    "        # 3rd element: 1 means found, 0 means not found\n",
    "    else:\n",
    "        intersection = np.array([alpha, beta, 0])\n",
    "        # 1st and 2nd elements: alpha & beta\n",
    "\n",
    "    return intersection\n",
    "\n",
    "# test example with three points in each line. They intersect by the first segments.\n",
    "lineA = np.array([[0, 0], [1, 0], [2, 0]])\n",
    "lineB = np.array([[0.5, 1], [0.5, -1], [0.5, -3]])\n",
    "\n",
    "plt.figure()\n",
    "plt.plot(lineA[:, 0], lineA[:, 1], color='red', marker='o', label='Line A', linewidth=2)\n",
    "plt.plot(lineB[:, 0], lineB[:, 1], color='blue', marker='o',label='Line B', linewidth=2)\n",
    "plt.xlabel(\"X\")\n",
    "plt.ylabel(\"Y\")\n",
    "plt.legend(loc='upper right')\n",
    "plt.show()\n",
    "\n",
    "print(find_intersection(lineA, lineB, 0, 0)) # Intersect at (0.5, 0)\n",
    "print(find_intersection(lineA, lineB, 0, 1)) # No intersection\n",
    "print(find_intersection(lineA, lineB, 1, 1)) # No intersection\n"
   ]
  },
  {
   "cell_type": "markdown",
   "id": "04869ae4-c341-4203-8e6c-7917c759de9c",
   "metadata": {},
   "source": [
    "## Find all intersections of two nullclines in Part 3A"
   ]
  },
  {
   "cell_type": "code",
   "execution_count": 2,
   "id": "68e80dea-f7cd-4da6-aa78-09c8c35ac389",
   "metadata": {},
   "outputs": [
    {
     "name": "stdout",
     "output_type": "stream",
     "text": [
      "[[542.37185133  35.27209876]\n",
      " [189.96276765 126.64623313]\n",
      " [ 52.90805706 361.58503595]]\n"
     ]
    }
   ],
   "source": [
    "def find_intersection_all(lineA, lineB):\n",
    "    lineA_ind = np.arange(lineA.shape[0] - 1)\n",
    "    lineB_ind = np.arange(lineB.shape[0] - 1)\n",
    "    lines_all = np.array(np.meshgrid(lineA_ind, lineB_ind)).T.reshape(-1, 2)\n",
    "    # all combination of indices for lineA and lineB\n",
    "\n",
    "    def find_intersection_single(inds):\n",
    "        return find_intersection(lineA, lineB, inds[0], inds[1])\n",
    "\n",
    "    results = np.apply_along_axis(find_intersection_single, 1, lines_all)\n",
    "    intersections = results[results[:, 2] == 1, :2]\n",
    "\n",
    "    return intersections\n",
    "\n",
    "# Load nullcline data from Part 3A\n",
    "null1 = np.loadtxt(\"null1_03A.csv\", delimiter=',')\n",
    "null2 = np.loadtxt(\"null2_03A.csv\", delimiter=',')\n",
    "\n",
    "# Find intersections\n",
    "ss_all = find_intersection_all(null1, null2)\n",
    "print(ss_all)"
   ]
  },
  {
   "cell_type": "markdown",
   "id": "4b36761c-b930-4bbd-b5b6-faeb256ca498",
   "metadata": {},
   "source": [
    "## Find all intersections (improved performance)"
   ]
  },
  {
   "cell_type": "code",
   "execution_count": 3,
   "id": "8b9f1cff-0097-4037-8bab-e3c0aa4426e9",
   "metadata": {},
   "outputs": [
    {
     "name": "stdout",
     "output_type": "stream",
     "text": [
      "[[542.37185133  35.27209876]\n",
      " [189.96276765 126.64623313]\n",
      " [ 52.90805706 361.58503595]]\n"
     ]
    }
   ],
   "source": [
    "# Same derivative function from Part 3A\n",
    "def hill_inh(X, X_th, n):\n",
    "    # inhibitory Hill function\n",
    "    # X_th: Hill threshold, n: Hill coefficient\n",
    "    a = (X / X_th)**n\n",
    "    return 1 / (1 + a)\n",
    "\n",
    "def derivs_ts(t, Xs):\n",
    "    # Calculate derivative function for a toggle switch circuit\n",
    "    X = Xs[0]\n",
    "    Y = Xs[1]\n",
    "    dxdt = 5 + 50 * hill_inh(Y, 100, 4) - 0.1 * X\n",
    "    dydt = 4 + 40 * hill_inh(X, 150, 4) - 0.12 * Y\n",
    "    return [dxdt, dydt]\n",
    "\n",
    "\n",
    "# Calculate dX/dt along the nullcline dY/dt = 0\n",
    "dxdt_y_null = np.apply_along_axis(lambda Xs: derivs_ts(0, Xs)[0], 1, null2)\n",
    "\n",
    "# Calculate dY/dt along the nullcline dX/dt = 0\n",
    "dydt_x_null = np.apply_along_axis(lambda Xs: derivs_ts(0, Xs)[1], 1, null1)\n",
    "\n",
    "def find_intersection_all_fast(lineA, lineB, dxdt, dydt):\n",
    "    small = 1e-3 # used to allow some tolerance of numerical errors in detecting sign flipping\n",
    "    lineA_ind = np.where(dydt * np.concatenate([dydt[1:], [np.nan]]) <= small)[0]\n",
    "    lineB_ind = np.where(dxdt * np.concatenate([dxdt[1:], [np.nan]]) <= small)[0]\n",
    "    lines_all = np.array(np.meshgrid(lineA_ind, lineB_ind)).T.reshape(-1, 2)\n",
    "\n",
    "    def find_intersection_single(inds):\n",
    "        return find_intersection(lineA, lineB, inds[0], inds[1])\n",
    "\n",
    "    results = np.apply_along_axis(find_intersection_single, 1, lines_all)\n",
    "    intersections = results[results[:, 2] == 1, :2]\n",
    "\n",
    "    return intersections\n",
    "\n",
    "# Find intersections\n",
    "ss_all = find_intersection_all_fast(null1, null2, dxdt_y_null, dydt_x_null)\n",
    "print(ss_all)"
   ]
  },
  {
   "cell_type": "markdown",
   "id": "4e73f5dd-236e-4902-988f-1aecfa3bb91d",
   "metadata": {},
   "source": [
    "## Stability"
   ]
  },
  {
   "cell_type": "code",
   "execution_count": 4,
   "id": "439dfad1-9923-4331-9457-81775cfc80bd",
   "metadata": {},
   "outputs": [
    {
     "name": "stdout",
     "output_type": "stream",
     "text": [
      "            X           Y  Stability\n",
      "0  542.371851   35.272099        1.0\n",
      "1  189.962768  126.646233        3.0\n",
      "2   52.908057  361.585036        1.0\n"
     ]
    }
   ],
   "source": [
    "from scipy.linalg import eig\n",
    "import pandas as pd\n",
    "\n",
    "def stability_2D(derivs, ss, **kwargs):\n",
    "    delta = 0.001\n",
    "    f_current = derivs(0, ss, **kwargs)\n",
    "    f_plus_dx = derivs(0, ss + np.array([delta, 0]), **kwargs)\n",
    "    f_plus_dy = derivs(0, ss + np.array([0, delta]), **kwargs)\n",
    "\n",
    "    # Finite difference to approximate Jacobian\n",
    "    dfxdx = (f_plus_dx[0] - f_current[0]) / delta\n",
    "    dfxdy = (f_plus_dy[0] - f_current[0]) / delta\n",
    "    dfydx = (f_plus_dx[1] - f_current[1]) / delta\n",
    "    dfydy = (f_plus_dy[1] - f_current[1]) / delta\n",
    "\n",
    "    jacobian = np.array([[dfxdx, dfxdy], [dfydx, dfydy]])\n",
    "    lambdas = eig(jacobian)[0]\n",
    "\n",
    "    if np.any(np.iscomplex(lambdas)):\n",
    "        if np.real(lambdas[0]) < 0:\n",
    "            stability = 4  # stable spiral\n",
    "        else:\n",
    "            stability = 5  # unstable spiral\n",
    "    else:\n",
    "        if (lambdas[0] < 0) and (lambdas[1] < 0):\n",
    "            stability = 1  # stable\n",
    "        elif (lambdas[0] >= 0) and (lambdas[1] >= 0):\n",
    "            stability = 2  # unstable\n",
    "        else:\n",
    "            stability = 3  # saddle\n",
    "\n",
    "    return np.concatenate([ss, [stability]])\n",
    "\n",
    "ss_with_stability = np.apply_along_axis(lambda ss: stability_2D(derivs_ts, ss), 1, ss_all)\n",
    "\n",
    "results = pd.DataFrame(ss_with_stability, columns=[\"X\", \"Y\", \"Stability\"])\n",
    "print(results)"
   ]
  }
 ],
 "metadata": {
  "kernelspec": {
   "display_name": "Python 3 (ipykernel)",
   "language": "python",
   "name": "python3"
  },
  "language_info": {
   "codemirror_mode": {
    "name": "ipython",
    "version": 3
   },
   "file_extension": ".py",
   "mimetype": "text/x-python",
   "name": "python",
   "nbconvert_exporter": "python",
   "pygments_lexer": "ipython3",
   "version": "3.11.6"
  }
 },
 "nbformat": 4,
 "nbformat_minor": 5
}
