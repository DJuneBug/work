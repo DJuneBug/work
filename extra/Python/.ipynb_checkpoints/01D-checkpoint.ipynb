{
 "cells": [
  {
   "cell_type": "markdown",
   "id": "468551e9-924d-443d-91ba-f70b4e3cf5b1",
   "metadata": {},
   "source": [
    "# 01D. Exercises\n",
    "\n",
    "### Mingyang Lu\n",
    "\n",
    "### 12/17/2023\n",
    "\n",
    "##  How to access PDB data in Python?"
   ]
  },
  {
   "cell_type": "code",
   "execution_count": 1,
   "id": "87d45226-9ba8-46a6-9cee-02e5a609c191",
   "metadata": {},
   "outputs": [],
   "source": [
    "# a Python function to retrieve PDB file from the provided PDB ID, \n",
    "# and save coordinate data to a pandas dataframe\n",
    "def pdb_to_dataframe(pdb_id):\n",
    "    from Bio import PDB\n",
    "    import pandas as pd\n",
    "    # Download PDB file\n",
    "    pdbl = PDB.PDBList()\n",
    "    pdb_file_path = pdbl.retrieve_pdb_file(pdb_id, pdir='.', file_format=\"pdb\")\n",
    "\n",
    "    # Read PDB file\n",
    "    pdb_parser = PDB.PDBParser(QUIET=True)\n",
    "    structure = pdb_parser.get_structure(pdb_id, pdb_file_path)\n",
    "\n",
    "    # Extract ATOM data\n",
    "    atom_data = []\n",
    "    for model in structure:\n",
    "        for chain in model:\n",
    "            for residue in chain:\n",
    "                for atom in residue:\n",
    "                    atom_data.append({\n",
    "                        'atom_name': atom.get_name(),\n",
    "                        'residue_name': residue.resname,\n",
    "                        'chain_id': chain.id,\n",
    "                        'residue_number': residue.id[1],\n",
    "                        'x': atom.coord[0],\n",
    "                        'y': atom.coord[1],\n",
    "                        'z': atom.coord[2],\n",
    "                        'b': atom.bfactor,\n",
    "                    })\n",
    "\n",
    "    # Create a DataFrame\n",
    "    df = pd.DataFrame(atom_data)\n",
    "\n",
    "    return df"
   ]
  },
  {
   "cell_type": "code",
   "execution_count": 2,
   "id": "fccb7308-5f7d-41e3-86ca-4b5d7863f475",
   "metadata": {},
   "outputs": [
    {
     "name": "stdout",
     "output_type": "stream",
     "text": [
      "Structure exists: './pdb7l3u.ent' \n",
      "     atom_name residue_name chain_id  residue_number       x       y       z  \\\n",
      "0            N          VAL        A               1  -8.469  -8.360  10.710   \n",
      "1           CA          VAL        A               1  -7.840  -7.437  11.652   \n",
      "2            C          VAL        A               1  -6.372  -7.809  11.847   \n",
      "3            O          VAL        A               1  -6.051  -8.980  12.024   \n",
      "4           CB          VAL        A               1  -8.591  -7.388  12.994   \n",
      "...        ...          ...      ...             ...     ...     ...     ...   \n",
      "1401         O          HOH        A             441   2.231   6.639  11.973   \n",
      "1402         O          HOH        A             442   4.713   1.622  14.629   \n",
      "1403         O          HOH        A             443  -8.433  15.713  -9.062   \n",
      "1404         O          HOH        A             444  12.564  13.715   1.647   \n",
      "1405         O          HOH        A             445   4.148   5.888  10.888   \n",
      "\n",
      "          b  \n",
      "0     50.87  \n",
      "1     50.51  \n",
      "2     49.62  \n",
      "3     50.06  \n",
      "4     51.92  \n",
      "...     ...  \n",
      "1401  44.39  \n",
      "1402  42.52  \n",
      "1403  38.80  \n",
      "1404  31.93  \n",
      "1405  38.42  \n",
      "\n",
      "[1406 rows x 8 columns]\n"
     ]
    }
   ],
   "source": [
    "# Example: Retrieve atomic coordinates for PDB ID \"7l3u\"\n",
    "pdb_id = \"7l3u\"\n",
    "df = pdb_to_dataframe(pdb_id)\n",
    "\n",
    "# Print the DataFrame\n",
    "print(df)"
   ]
  },
  {
   "cell_type": "code",
   "execution_count": 4,
   "id": "c2b49b12-bd96-46c3-b439-e30f4b8829c4",
   "metadata": {},
   "outputs": [
    {
     "name": "stdout",
     "output_type": "stream",
     "text": [
      "0       -8.469\n",
      "1       -7.840\n",
      "2       -6.372\n",
      "3       -6.051\n",
      "4       -8.591\n",
      "         ...  \n",
      "1401     2.231\n",
      "1402     4.713\n",
      "1403    -8.433\n",
      "1404    12.564\n",
      "1405     4.148\n",
      "Name: x, Length: 1406, dtype: float32\n"
     ]
    }
   ],
   "source": [
    "# Print the x coordinates\n",
    "print(df['x'])"
   ]
  }
 ],
 "metadata": {
  "kernelspec": {
   "display_name": "Python 3 (ipykernel)",
   "language": "python",
   "name": "python3"
  },
  "language_info": {
   "codemirror_mode": {
    "name": "ipython",
    "version": 3
   },
   "file_extension": ".py",
   "mimetype": "text/x-python",
   "name": "python",
   "nbconvert_exporter": "python",
   "pygments_lexer": "ipython3",
   "version": "3.11.6"
  }
 },
 "nbformat": 4,
 "nbformat_minor": 5
}
